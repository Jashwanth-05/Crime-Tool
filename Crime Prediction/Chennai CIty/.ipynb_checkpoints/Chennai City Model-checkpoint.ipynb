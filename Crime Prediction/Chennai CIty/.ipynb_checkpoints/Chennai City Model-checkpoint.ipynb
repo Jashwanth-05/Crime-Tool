{
 "cells": [
  {
   "cell_type": "code",
   "execution_count": 1,
   "id": "6ac4ec2e-2109-4eb1-8467-4b80b28f20e0",
   "metadata": {},
   "outputs": [],
   "source": [
    "import pandas as pd\n",
    "from sklearn.model_selection import train_test_split\n",
    "from sklearn.ensemble import RandomForestClassifier\n",
    "from sklearn.metrics import accuracy_score, classification_report\n",
    "from sklearn.preprocessing import StandardScaler\n",
    "\n",
    "dataset=pd.read_csv('data1.csv')\n",
    "\n",
    "data = pd.read_csv(\"data1.csv\")\n",
    "\n"
   ]
  },
  {
   "cell_type": "code",
   "execution_count": 2,
   "id": "acefa810-d63a-41b2-aa3a-eebd3d143340",
   "metadata": {},
   "outputs": [
    {
     "data": {
      "text/html": [
       "<div>\n",
       "<style scoped>\n",
       "    .dataframe tbody tr th:only-of-type {\n",
       "        vertical-align: middle;\n",
       "    }\n",
       "\n",
       "    .dataframe tbody tr th {\n",
       "        vertical-align: top;\n",
       "    }\n",
       "\n",
       "    .dataframe thead th {\n",
       "        text-align: right;\n",
       "    }\n",
       "</style>\n",
       "<table border=\"1\" class=\"dataframe\">\n",
       "  <thead>\n",
       "    <tr style=\"text-align: right;\">\n",
       "      <th></th>\n",
       "      <th>timestamp</th>\n",
       "      <th>act379</th>\n",
       "      <th>act13</th>\n",
       "      <th>act279</th>\n",
       "      <th>act323</th>\n",
       "      <th>act363</th>\n",
       "      <th>act302</th>\n",
       "      <th>latitude</th>\n",
       "      <th>longitude</th>\n",
       "    </tr>\n",
       "  </thead>\n",
       "  <tbody>\n",
       "    <tr>\n",
       "      <th>0</th>\n",
       "      <td>28-02-2018 21:00</td>\n",
       "      <td>1</td>\n",
       "      <td>0</td>\n",
       "      <td>0</td>\n",
       "      <td>0</td>\n",
       "      <td>0</td>\n",
       "      <td>0</td>\n",
       "      <td>12.989627</td>\n",
       "      <td>80.248875</td>\n",
       "    </tr>\n",
       "    <tr>\n",
       "      <th>1</th>\n",
       "      <td>28-02-2018 21:15</td>\n",
       "      <td>1</td>\n",
       "      <td>0</td>\n",
       "      <td>0</td>\n",
       "      <td>0</td>\n",
       "      <td>0</td>\n",
       "      <td>0</td>\n",
       "      <td>13.066044</td>\n",
       "      <td>80.250384</td>\n",
       "    </tr>\n",
       "    <tr>\n",
       "      <th>2</th>\n",
       "      <td>28-02-2018 10:15</td>\n",
       "      <td>0</td>\n",
       "      <td>0</td>\n",
       "      <td>1</td>\n",
       "      <td>0</td>\n",
       "      <td>0</td>\n",
       "      <td>0</td>\n",
       "      <td>13.003150</td>\n",
       "      <td>80.269483</td>\n",
       "    </tr>\n",
       "    <tr>\n",
       "      <th>3</th>\n",
       "      <td>28-02-2018 10:15</td>\n",
       "      <td>0</td>\n",
       "      <td>0</td>\n",
       "      <td>1</td>\n",
       "      <td>0</td>\n",
       "      <td>0</td>\n",
       "      <td>0</td>\n",
       "      <td>12.998009</td>\n",
       "      <td>80.229343</td>\n",
       "    </tr>\n",
       "    <tr>\n",
       "      <th>4</th>\n",
       "      <td>28-02-2018 10:30</td>\n",
       "      <td>0</td>\n",
       "      <td>0</td>\n",
       "      <td>1</td>\n",
       "      <td>0</td>\n",
       "      <td>0</td>\n",
       "      <td>0</td>\n",
       "      <td>12.980512</td>\n",
       "      <td>80.218189</td>\n",
       "    </tr>\n",
       "  </tbody>\n",
       "</table>\n",
       "</div>"
      ],
      "text/plain": [
       "          timestamp  act379  act13  act279  act323  act363  act302   latitude  \\\n",
       "0  28-02-2018 21:00       1      0       0       0       0       0  12.989627   \n",
       "1  28-02-2018 21:15       1      0       0       0       0       0  13.066044   \n",
       "2  28-02-2018 10:15       0      0       1       0       0       0  13.003150   \n",
       "3  28-02-2018 10:15       0      0       1       0       0       0  12.998009   \n",
       "4  28-02-2018 10:30       0      0       1       0       0       0  12.980512   \n",
       "\n",
       "   longitude  \n",
       "0  80.248875  \n",
       "1  80.250384  \n",
       "2  80.269483  \n",
       "3  80.229343  \n",
       "4  80.218189  "
      ]
     },
     "execution_count": 2,
     "metadata": {},
     "output_type": "execute_result"
    }
   ],
   "source": [
    "dataset.head()"
   ]
  },
  {
   "cell_type": "code",
   "execution_count": 3,
   "id": "ba5e440e-6d9e-448b-932e-00ec58e310bd",
   "metadata": {},
   "outputs": [],
   "source": [
    "data['timestamp'] = pd.to_datetime(data['timestamp'], errors='coerce',dayfirst=True)"
   ]
  },
  {
   "cell_type": "code",
   "execution_count": 4,
   "id": "b84b42ac-9c3c-4dc8-9fb3-0836c8317e91",
   "metadata": {},
   "outputs": [
    {
     "data": {
      "text/plain": [
       "0      2018-02-28 21:00:00\n",
       "1      2018-02-28 21:15:00\n",
       "2      2018-02-28 10:15:00\n",
       "3      2018-02-28 10:15:00\n",
       "4      2018-02-28 10:30:00\n",
       "               ...        \n",
       "2085   2018-03-07 03:50:00\n",
       "2086   2018-03-07 21:10:00\n",
       "2087   2018-03-07 12:10:00\n",
       "2088   2018-03-07 10:35:00\n",
       "2089   2018-03-07 23:45:00\n",
       "Name: timestamp, Length: 2090, dtype: datetime64[ns]"
      ]
     },
     "execution_count": 4,
     "metadata": {},
     "output_type": "execute_result"
    }
   ],
   "source": [
    "data['timestamp']"
   ]
  },
  {
   "cell_type": "code",
   "execution_count": 5,
   "id": "df276a77-9096-4346-8aaa-6221eeb4b977",
   "metadata": {},
   "outputs": [],
   "source": [
    "# Assuming 'data' is your DataFrame containing the datetime column\n",
    "column_1 = data.iloc[:, 0]\n",
    "\n",
    "# Create a new DataFrame containing date and time components\n",
    "db = pd.DataFrame({\n",
    "    \"year\": column_1.dt.year,\n",
    "    \"month\": column_1.dt.month,\n",
    "    \"day\": column_1.dt.day,\n",
    "    \"hour\": column_1.dt.hour,\n",
    "    \"dayofyear\": column_1.dt.dayofyear,\n",
    "    \"week\": column_1.dt.isocalendar().week,  # Using isocalendar().week\n",
    "    \"weekofyear\": column_1.dt.isocalendar().week,  # Using isocalendar().week\n",
    "    \"dayofweek\": column_1.dt.dayofweek,\n",
    "    \"weekday\": column_1.dt.weekday,\n",
    "    \"quarter\": column_1.dt.quarter\n",
    "})"
   ]
  },
  {
   "cell_type": "code",
   "execution_count": 6,
   "id": "56f2451c-58ae-496a-836d-f3fac02cd348",
   "metadata": {},
   "outputs": [],
   "source": [
    "dataset1=dataset.drop('timestamp',axis=1)"
   ]
  },
  {
   "cell_type": "code",
   "execution_count": 7,
   "id": "f5ea352c-e1fb-4c15-a922-e7df81fc3dbb",
   "metadata": {},
   "outputs": [],
   "source": [
    "data1=pd.concat([db,dataset1],axis=1)"
   ]
  },
  {
   "cell_type": "code",
   "execution_count": 8,
   "id": "2112e017-1e1f-4f53-8920-962381c42ccf",
   "metadata": {},
   "outputs": [],
   "source": [
    "data1.dropna(inplace=True)"
   ]
  },
  {
   "cell_type": "code",
   "execution_count": 9,
   "id": "2f18f098-0664-4776-915d-45fa26fedc06",
   "metadata": {},
   "outputs": [
    {
     "data": {
      "text/html": [
       "<div>\n",
       "<style scoped>\n",
       "    .dataframe tbody tr th:only-of-type {\n",
       "        vertical-align: middle;\n",
       "    }\n",
       "\n",
       "    .dataframe tbody tr th {\n",
       "        vertical-align: top;\n",
       "    }\n",
       "\n",
       "    .dataframe thead th {\n",
       "        text-align: right;\n",
       "    }\n",
       "</style>\n",
       "<table border=\"1\" class=\"dataframe\">\n",
       "  <thead>\n",
       "    <tr style=\"text-align: right;\">\n",
       "      <th></th>\n",
       "      <th>year</th>\n",
       "      <th>month</th>\n",
       "      <th>day</th>\n",
       "      <th>hour</th>\n",
       "      <th>dayofyear</th>\n",
       "      <th>week</th>\n",
       "      <th>weekofyear</th>\n",
       "      <th>dayofweek</th>\n",
       "      <th>weekday</th>\n",
       "      <th>quarter</th>\n",
       "      <th>act379</th>\n",
       "      <th>act13</th>\n",
       "      <th>act279</th>\n",
       "      <th>act323</th>\n",
       "      <th>act363</th>\n",
       "      <th>act302</th>\n",
       "      <th>latitude</th>\n",
       "      <th>longitude</th>\n",
       "    </tr>\n",
       "  </thead>\n",
       "  <tbody>\n",
       "    <tr>\n",
       "      <th>0</th>\n",
       "      <td>2018.0</td>\n",
       "      <td>2.0</td>\n",
       "      <td>28.0</td>\n",
       "      <td>21.0</td>\n",
       "      <td>59.0</td>\n",
       "      <td>9</td>\n",
       "      <td>9</td>\n",
       "      <td>2.0</td>\n",
       "      <td>2.0</td>\n",
       "      <td>1.0</td>\n",
       "      <td>1</td>\n",
       "      <td>0</td>\n",
       "      <td>0</td>\n",
       "      <td>0</td>\n",
       "      <td>0</td>\n",
       "      <td>0</td>\n",
       "      <td>12.989627</td>\n",
       "      <td>80.248875</td>\n",
       "    </tr>\n",
       "    <tr>\n",
       "      <th>1</th>\n",
       "      <td>2018.0</td>\n",
       "      <td>2.0</td>\n",
       "      <td>28.0</td>\n",
       "      <td>21.0</td>\n",
       "      <td>59.0</td>\n",
       "      <td>9</td>\n",
       "      <td>9</td>\n",
       "      <td>2.0</td>\n",
       "      <td>2.0</td>\n",
       "      <td>1.0</td>\n",
       "      <td>1</td>\n",
       "      <td>0</td>\n",
       "      <td>0</td>\n",
       "      <td>0</td>\n",
       "      <td>0</td>\n",
       "      <td>0</td>\n",
       "      <td>13.066044</td>\n",
       "      <td>80.250384</td>\n",
       "    </tr>\n",
       "    <tr>\n",
       "      <th>2</th>\n",
       "      <td>2018.0</td>\n",
       "      <td>2.0</td>\n",
       "      <td>28.0</td>\n",
       "      <td>10.0</td>\n",
       "      <td>59.0</td>\n",
       "      <td>9</td>\n",
       "      <td>9</td>\n",
       "      <td>2.0</td>\n",
       "      <td>2.0</td>\n",
       "      <td>1.0</td>\n",
       "      <td>0</td>\n",
       "      <td>0</td>\n",
       "      <td>1</td>\n",
       "      <td>0</td>\n",
       "      <td>0</td>\n",
       "      <td>0</td>\n",
       "      <td>13.003150</td>\n",
       "      <td>80.269483</td>\n",
       "    </tr>\n",
       "    <tr>\n",
       "      <th>3</th>\n",
       "      <td>2018.0</td>\n",
       "      <td>2.0</td>\n",
       "      <td>28.0</td>\n",
       "      <td>10.0</td>\n",
       "      <td>59.0</td>\n",
       "      <td>9</td>\n",
       "      <td>9</td>\n",
       "      <td>2.0</td>\n",
       "      <td>2.0</td>\n",
       "      <td>1.0</td>\n",
       "      <td>0</td>\n",
       "      <td>0</td>\n",
       "      <td>1</td>\n",
       "      <td>0</td>\n",
       "      <td>0</td>\n",
       "      <td>0</td>\n",
       "      <td>12.998009</td>\n",
       "      <td>80.229343</td>\n",
       "    </tr>\n",
       "    <tr>\n",
       "      <th>4</th>\n",
       "      <td>2018.0</td>\n",
       "      <td>2.0</td>\n",
       "      <td>28.0</td>\n",
       "      <td>10.0</td>\n",
       "      <td>59.0</td>\n",
       "      <td>9</td>\n",
       "      <td>9</td>\n",
       "      <td>2.0</td>\n",
       "      <td>2.0</td>\n",
       "      <td>1.0</td>\n",
       "      <td>0</td>\n",
       "      <td>0</td>\n",
       "      <td>1</td>\n",
       "      <td>0</td>\n",
       "      <td>0</td>\n",
       "      <td>0</td>\n",
       "      <td>12.980512</td>\n",
       "      <td>80.218189</td>\n",
       "    </tr>\n",
       "  </tbody>\n",
       "</table>\n",
       "</div>"
      ],
      "text/plain": [
       "     year  month   day  hour  dayofyear  week  weekofyear  dayofweek  weekday  \\\n",
       "0  2018.0    2.0  28.0  21.0       59.0     9           9        2.0      2.0   \n",
       "1  2018.0    2.0  28.0  21.0       59.0     9           9        2.0      2.0   \n",
       "2  2018.0    2.0  28.0  10.0       59.0     9           9        2.0      2.0   \n",
       "3  2018.0    2.0  28.0  10.0       59.0     9           9        2.0      2.0   \n",
       "4  2018.0    2.0  28.0  10.0       59.0     9           9        2.0      2.0   \n",
       "\n",
       "   quarter  act379  act13  act279  act323  act363  act302   latitude  \\\n",
       "0      1.0       1      0       0       0       0       0  12.989627   \n",
       "1      1.0       1      0       0       0       0       0  13.066044   \n",
       "2      1.0       0      0       1       0       0       0  13.003150   \n",
       "3      1.0       0      0       1       0       0       0  12.998009   \n",
       "4      1.0       0      0       1       0       0       0  12.980512   \n",
       "\n",
       "   longitude  \n",
       "0  80.248875  \n",
       "1  80.250384  \n",
       "2  80.269483  \n",
       "3  80.229343  \n",
       "4  80.218189  "
      ]
     },
     "execution_count": 9,
     "metadata": {},
     "output_type": "execute_result"
    }
   ],
   "source": [
    "data1.head()"
   ]
  },
  {
   "cell_type": "code",
   "execution_count": 10,
   "id": "c0b266dc-89a6-4e26-a77b-1c4a437cbd25",
   "metadata": {},
   "outputs": [],
   "source": [
    "X=data1.iloc[:,[1,2,3,4,6,16,17]].values"
   ]
  },
  {
   "cell_type": "code",
   "execution_count": 11,
   "id": "215215b5-7477-4cda-97f7-363652187edf",
   "metadata": {},
   "outputs": [
    {
     "data": {
      "text/plain": [
       "array([[2.0, 28.0, 21.0, ..., 9, 12.989627, 80.248875],\n",
       "       [2.0, 28.0, 21.0, ..., 9, 13.066044, 80.250384],\n",
       "       [2.0, 28.0, 10.0, ..., 9, 13.00315, 80.269483],\n",
       "       ...,\n",
       "       [3.0, 7.0, 12.0, ..., 10, 13.087502, 80.277435],\n",
       "       [3.0, 7.0, 10.0, ..., 10, 13.086332, 80.287183],\n",
       "       [3.0, 7.0, 23.0, ..., 10, 13.088497, 80.278309]], dtype=object)"
      ]
     },
     "execution_count": 11,
     "metadata": {},
     "output_type": "execute_result"
    }
   ],
   "source": [
    "X"
   ]
  },
  {
   "cell_type": "code",
   "execution_count": 12,
   "id": "3c20c0bb-cc17-4d28-8d44-52361b6fb39a",
   "metadata": {},
   "outputs": [],
   "source": [
    "y=data1.iloc[:,[10,11,12,13,14,15]].values"
   ]
  },
  {
   "cell_type": "code",
   "execution_count": 13,
   "id": "85148ce1-c1cd-4704-893e-9f8f6b7cb8c6",
   "metadata": {},
   "outputs": [
    {
     "data": {
      "text/plain": [
       "array([[1, 0, 0, 0, 0, 0],\n",
       "       [1, 0, 0, 0, 0, 0],\n",
       "       [0, 0, 1, 0, 0, 0],\n",
       "       ...,\n",
       "       [0, 0, 1, 0, 0, 0],\n",
       "       [0, 0, 1, 0, 0, 0],\n",
       "       [0, 0, 1, 0, 0, 0]], dtype=int64)"
      ]
     },
     "execution_count": 13,
     "metadata": {},
     "output_type": "execute_result"
    }
   ],
   "source": [
    "y"
   ]
  },
  {
   "cell_type": "code",
   "execution_count": 14,
   "id": "b27e24ee-8972-4e08-ae16-db43b86176f1",
   "metadata": {},
   "outputs": [],
   "source": [
    "X_train, X_test, y_train, y_test = train_test_split(X, y, test_size=0.20, random_state=50)"
   ]
  },
  {
   "cell_type": "code",
   "execution_count": 15,
   "id": "79c27063-d535-470d-8b7d-d174243c576d",
   "metadata": {},
   "outputs": [
    {
     "name": "stdout",
     "output_type": "stream",
     "text": [
      "Accuracy: 0.5748792270531401\n",
      "Classification Report:\n",
      "               precision    recall  f1-score   support\n",
      "\n",
      "           0       0.72      0.49      0.58        86\n",
      "           1       0.50      0.26      0.34        19\n",
      "           2       0.76      0.66      0.71       147\n",
      "           3       0.69      0.65      0.67       140\n",
      "           4       0.27      0.16      0.20        19\n",
      "           5       0.00      0.00      0.00         3\n",
      "\n",
      "   micro avg       0.70      0.57      0.63       414\n",
      "   macro avg       0.49      0.37      0.42       414\n",
      "weighted avg       0.69      0.57      0.62       414\n",
      " samples avg       0.57      0.57      0.57       414\n",
      "\n"
     ]
    },
    {
     "name": "stderr",
     "output_type": "stream",
     "text": [
      "C:\\Users\\ASUS\\AppData\\Local\\Programs\\Python\\Python311\\Lib\\site-packages\\sklearn\\metrics\\_classification.py:1509: UndefinedMetricWarning: Precision is ill-defined and being set to 0.0 in labels with no predicted samples. Use `zero_division` parameter to control this behavior.\n",
      "  _warn_prf(average, modifier, f\"{metric.capitalize()} is\", len(result))\n",
      "C:\\Users\\ASUS\\AppData\\Local\\Programs\\Python\\Python311\\Lib\\site-packages\\sklearn\\metrics\\_classification.py:1509: UndefinedMetricWarning: Precision is ill-defined and being set to 0.0 in samples with no predicted labels. Use `zero_division` parameter to control this behavior.\n",
      "  _warn_prf(average, modifier, f\"{metric.capitalize()} is\", len(result))\n"
     ]
    }
   ],
   "source": [
    "\n",
    "model = RandomForestClassifier(n_estimators=100, random_state=42)\n",
    "\n",
    "# Step 7: Train the Model\n",
    "model.fit(X_train, y_train)\n",
    "\n",
    "# Step 8: Evaluate the Model\n",
    "y_pred = model.predict(X_test)\n",
    "print(\"Accuracy:\", accuracy_score(y_test, y_pred))\n",
    "print(\"Classification Report:\\n\", classification_report(y_test, y_pred))\n",
    "\n",
    "# Optional: Hyperparameter Tuning (if needed)\n",
    "\n",
    "# Step 9: Deployment (if needed)\n"
   ]
  },
  {
   "cell_type": "code",
   "execution_count": 16,
   "id": "74e6f811-67ed-4bc6-82fe-a7069e24aa1c",
   "metadata": {},
   "outputs": [
    {
     "name": "stdout",
     "output_type": "stream",
     "text": [
      "Predicted activities: [[0 0 0 1 0 0]]\n"
     ]
    }
   ],
   "source": [
    "# Input data\n",
    "import numpy as np\n",
    "input_values = [2.0, 28.0, 21.0, 59.0, 9, 22.737260, 75.875987]\n",
    "\n",
    "# Convert input values to a numpy array\n",
    "input_values = np.array(input_values).reshape(1, -1)\n",
    "\n",
    "# Now, you can use your trained model to make predictions on this input data\n",
    "y_pred_input = model.predict(input_values)\n",
    "print(\"Predicted activities:\", y_pred_input)"
   ]
  },
  {
   "cell_type": "code",
   "execution_count": 17,
   "id": "d17c9fac-78ab-47b4-93cd-62d010fa7d7c",
   "metadata": {},
   "outputs": [],
   "source": [
    "import pickle\n",
    "\n",
    "# Save the model\n",
    "with open('Chennai City Model.pkl', 'wb') as f:\n",
    "    pickle.dump(model, f)\n"
   ]
  },
  {
   "cell_type": "code",
   "execution_count": null,
   "id": "87092cc5-9c29-4571-a3c2-1bc610b65ef4",
   "metadata": {},
   "outputs": [],
   "source": []
  }
 ],
 "metadata": {
  "kernelspec": {
   "display_name": "Python 3 (ipykernel)",
   "language": "python",
   "name": "python3"
  },
  "language_info": {
   "codemirror_mode": {
    "name": "ipython",
    "version": 3
   },
   "file_extension": ".py",
   "mimetype": "text/x-python",
   "name": "python",
   "nbconvert_exporter": "python",
   "pygments_lexer": "ipython3",
   "version": "3.11.5"
  }
 },
 "nbformat": 4,
 "nbformat_minor": 5
}
